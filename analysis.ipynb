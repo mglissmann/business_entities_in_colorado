{
 "cells": [
  {
   "cell_type": "code",
   "execution_count": 125,
   "metadata": {},
   "outputs": [],
   "source": [
    "\n",
    "import requests\n",
    "import sqlite3\n",
    "from requests.auth import HTTPBasicAuth\n",
    "import pandas as pd\n",
    "from sodapy import Socrata"
   ]
  },
  {
   "cell_type": "code",
   "execution_count": 126,
   "metadata": {},
   "outputs": [],
   "source": [
    "# api endpoint\n",
    "api_url = \"https://data.colorado.gov/resource/4ykn-tg5h.json\"\n",
    "app_token = \"0NT6cCdGg6VVAj2pRLjmAqDFu\"\n",
    "username = \"glissmann.mark@gmail.com\"\n",
    "password = \"K2PRH@mUDwgbfsV\"\n",
    "entityid = \"18881009142\"\n",
    "api_key = \"gxc0jsptwdopcqxffpl21c8b\"\n",
    "api_secret_key = \"2w9yp2sqyp3d7nxkidj8v65e6ow7mos3e7bnuc64rqaiccyc4c\" \n"
   ]
  },
  {
   "cell_type": "code",
   "execution_count": 127,
   "metadata": {},
   "outputs": [],
   "source": [
    "batch_size = 1000 \n",
    "offset = 0"
   ]
  },
  {
   "cell_type": "code",
   "execution_count": 128,
   "metadata": {},
   "outputs": [],
   "source": [
    "# connect to SQLite database (or create it)\n",
    "conn = sqlite3.connect('business_entities.db')\n",
    "cursor = conn.cursor()"
   ]
  },
  {
   "cell_type": "code",
   "execution_count": 132,
   "metadata": {},
   "outputs": [],
   "source": [
    "# Fetch one record to determine the structure of the data\n",
    "response = requests.get(api_url, params={'$limit': 1})\n",
    "if response.status_code == 200:\n",
    "    sample_data = response.json()\n",
    "    if sample_data:\n",
    "        columns = sample_data[0].keys()\n",
    "        # Create table based on the keys in the data\n",
    "        cursor.execute(f'''\n",
    "        CREATE TABLE IF NOT EXISTS data (\n",
    "            {', '.join([f'{col} TEXT' for col in columns])}\n",
    "        )\n",
    "        ''')\n",
    "        conn.commit()\n",
    "else:\n",
    "    print(f\"Failed to retrieve data: {response.status_code}\")\n",
    "    exit()"
   ]
  },
  {
   "cell_type": "code",
   "execution_count": 134,
   "metadata": {},
   "outputs": [],
   "source": [
    "while True:\n",
    "    # fetch a batch of data\n",
    "    params = {\n",
    "        '$limit': batch_size,\n",
    "        '$offset': offset\n",
    "    }\n",
    "\n",
    "    response = requests.get(api_url, params=params)\n",
    "\n",
    "    if response.status_code == 200:\n",
    "        data = response.json()\n",
    "\n",
    "        if not data:\n",
    "            # no more data to fetch\n",
    "            break\n",
    "        \n",
    "        # prepare insert statement\n",
    "        placeholders = ', '.join(['?'] * len(columns))\n",
    "        insert_statement = f'''\n",
    "        INSERT OR IGNORE INTO colorado ({', '.join(columns)})\n",
    "        VALUES ({placeholders})\n",
    "        '''\n",
    "\n",
    "        # process and insert data into the database\n",
    "        for item in data:\n",
    "            values = tuple(item.get(col) for col in columns)\n",
    "            cursor.execute(insert_statement, values)\n",
    "        \n",
    "        # commit changes to the database\n",
    "        conn.commit()\n",
    "\n",
    "        # increment offset for the next batch\n",
    "        offset += batch_size\n",
    "    else:\n",
    "        print(f\"Failed to retreive data: {response.status_code}\")\n",
    "        break \n",
    "\n",
    "# close the database connection\n",
    "conn.close()"
   ]
  },
  {
   "cell_type": "code",
   "execution_count": 121,
   "metadata": {},
   "outputs": [
    {
     "name": "stdout",
     "output_type": "stream",
     "text": [
      "Total records retrieved: 120000\n",
      "Total memory usage: 217838949 bytes or 0.2 gigabytes\n"
     ]
    }
   ],
   "source": [
    "\n",
    "# Convert the list of all records to a pandas DataFrame\n",
    "df = pd.DataFrame(all_data)\n",
    "print(f'Total records retrieved: {len(df)}')\n",
    "\n",
    "# memory usage of the dataframe\n",
    "memory = df.memory_usage(deep=True).sum()\n",
    "print(f'Total memory usage: {memory} bytes or {round(memory/1073741824, 2)} gigabytes')"
   ]
  },
  {
   "cell_type": "code",
   "execution_count": 122,
   "metadata": {},
   "outputs": [
    {
     "name": "stdout",
     "output_type": "stream",
     "text": [
      "Min entityformdate: 2023-01-01T00:00:00.000\n",
      "Max entityformdate: 2023-07-25T00:00:00.000 \n",
      "\n",
      "      entityid                   entityname    principaladdress1  \\\n",
      "0  20221952116               Pommeander LLC     5295 Eldridge St   \n",
      "1  20221960515  CC Management Services Inc.      319 Aabc Unit N   \n",
      "2  20221963658        OliveBlack Events LLC  11675 Pink Phlox Dr   \n",
      "3  20221969060     Three Hive Strategy, LLC    10127 Phillips Rd   \n",
      "4  20221973469             The Nest of Hope    18608 E Vassar Dr   \n",
      "\n",
      "  principalcity principalstate principalzipcode principalcountry  \\\n",
      "0        Arvada             CO            80002               US   \n",
      "1         Aspen             CO            81611               US   \n",
      "2        Parker             CO            80134               US   \n",
      "3     Lafayette             CO            80026               US   \n",
      "4        Aurora             CO            80013               US   \n",
      "\n",
      "    entitystatus jurisdictonofformation                 entitytype  ...  \\\n",
      "0  Good Standing                     CO  Limited Liability Company  ...   \n",
      "1  Good Standing                     CO                Corporation  ...   \n",
      "2  Good Standing                     CO  Limited Liability Company  ...   \n",
      "3  Good Standing                     CO  Limited Liability Company  ...   \n",
      "4  Good Standing                     CO      Nonprofit Corporation  ...   \n",
      "\n",
      "  agentmailingcity agentmailingstate agentmailingzipcode agentmailingcountry  \\\n",
      "0              NaN               NaN                 NaN                 NaN   \n",
      "1              NaN               NaN                 NaN                 NaN   \n",
      "2              NaN               NaN                 NaN                 NaN   \n",
      "3              NaN               NaN                 NaN                 NaN   \n",
      "4           Aurora                CO               80013                  US   \n",
      "\n",
      "  agentmiddlename agentsuffix principaladdress2 mailingaddress2  \\\n",
      "0             NaN         NaN               NaN             NaN   \n",
      "1             NaN         NaN               NaN             NaN   \n",
      "2             NaN         NaN               NaN             NaN   \n",
      "3             NaN         NaN               NaN             NaN   \n",
      "4             NaN         NaN               NaN             NaN   \n",
      "\n",
      "  agentprincipaladdress2 agentmailingaddress2  \n",
      "0                    NaN                  NaN  \n",
      "1                    NaN                  NaN  \n",
      "2                    NaN                  NaN  \n",
      "3                    NaN                  NaN  \n",
      "4                    NaN                  NaN  \n",
      "\n",
      "[5 rows x 35 columns]\n"
     ]
    }
   ],
   "source": [
    "print(f'Min entityformdate: {min(df.entityformdate)}')\n",
    "print(f'Max entityformdate: {max(df.entityformdate)} \\n')\n",
    "print(df.head())"
   ]
  },
  {
   "cell_type": "code",
   "execution_count": null,
   "metadata": {},
   "outputs": [],
   "source": []
  }
 ],
 "metadata": {
  "kernelspec": {
   "display_name": "Python 3",
   "language": "python",
   "name": "python3"
  },
  "language_info": {
   "codemirror_mode": {
    "name": "ipython",
    "version": 3
   },
   "file_extension": ".py",
   "mimetype": "text/x-python",
   "name": "python",
   "nbconvert_exporter": "python",
   "pygments_lexer": "ipython3",
   "version": "3.9.12"
  },
  "orig_nbformat": 4
 },
 "nbformat": 4,
 "nbformat_minor": 2
}
