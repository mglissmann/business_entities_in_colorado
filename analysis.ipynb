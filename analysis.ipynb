{
 "cells": [
  {
   "attachments": {},
   "cell_type": "markdown",
   "metadata": {},
   "source": [
    "# Imports"
   ]
  },
  {
   "cell_type": "code",
   "execution_count": 1,
   "metadata": {},
   "outputs": [],
   "source": [
    "\n",
    "import requests\n",
    "import sqlite3\n",
    "import pandas as pd\n",
    "from sodapy import Socrata"
   ]
  },
  {
   "attachments": {},
   "cell_type": "markdown",
   "metadata": {},
   "source": [
    "# Collect Data"
   ]
  },
  {
   "cell_type": "code",
   "execution_count": 14,
   "metadata": {},
   "outputs": [],
   "source": [
    "# api endpoint\n",
    "api_url = \"https://data.colorado.gov/resource/4ykn-tg5h.json\"\n",
    "app_token = \"0NT6cCdGg6VVAj2pRLjmAqDFu\"\n",
    "username = \"glissmann.mark@gmail.com\"\n",
    "password = \"K2PRH@mUDwgbfsV\"\n",
    "entityid = \"18881009142\"\n",
    "api_key = \"gxc0jsptwdopcqxffpl21c8b\"\n",
    "api_secret_key = \"2w9yp2sqyp3d7nxkidj8v65e6ow7mos3e7bnuc64rqaiccyc4c\" \n"
   ]
  },
  {
   "cell_type": "code",
   "execution_count": 15,
   "metadata": {},
   "outputs": [],
   "source": [
    "batch_size = 1000 \n",
    "offset = 0"
   ]
  },
  {
   "cell_type": "code",
   "execution_count": 2,
   "metadata": {},
   "outputs": [],
   "source": [
    "# connect to SQLite database (or create it)\n",
    "conn = sqlite3.connect('business_entities.db')\n",
    "cursor = conn.cursor()"
   ]
  },
  {
   "cell_type": "code",
   "execution_count": 17,
   "metadata": {},
   "outputs": [],
   "source": [
    "# Fetch one record to determine the structure of the data\n",
    "response = requests.get(api_url, params={'$limit': 1})\n",
    "if response.status_code == 200:\n",
    "    sample_data = response.json()\n",
    "    if sample_data:\n",
    "        columns = sample_data[0].keys()\n",
    "        # Create table based on the keys in the data\n",
    "        cursor.execute(f'''\n",
    "        CREATE TABLE IF NOT EXISTS colorado (\n",
    "            {', '.join([f'{col} TEXT' for col in columns])}\n",
    "        )\n",
    "        ''')\n",
    "        conn.commit()\n",
    "else:\n",
    "    print(f\"Failed to retrieve data: {response.status_code}\")\n",
    "    exit()"
   ]
  },
  {
   "cell_type": "code",
   "execution_count": 18,
   "metadata": {},
   "outputs": [],
   "source": [
    "while True:\n",
    "    # fetch a batch of data\n",
    "    params = {\n",
    "        '$limit': batch_size,\n",
    "        '$offset': offset\n",
    "    }\n",
    "\n",
    "    response = requests.get(api_url, params=params)\n",
    "\n",
    "    if response.status_code == 200:\n",
    "        data = response.json()\n",
    "\n",
    "        if not data:\n",
    "            # no more data to fetch\n",
    "            break\n",
    "        \n",
    "        # prepare insert statement\n",
    "        placeholders = ', '.join(['?'] * len(columns))\n",
    "        insert_statement = f'''\n",
    "        INSERT OR IGNORE INTO colorado ({', '.join(columns)})\n",
    "        VALUES ({placeholders})\n",
    "        '''\n",
    "\n",
    "        # process and insert data into the database\n",
    "        for item in data:\n",
    "            values = tuple(item.get(col) for col in columns)\n",
    "            cursor.execute(insert_statement, values)\n",
    "        \n",
    "        # commit changes to the database\n",
    "        conn.commit()\n",
    "\n",
    "        # increment offset for the next batch\n",
    "        offset += batch_size\n",
    "    else:\n",
    "        print(f\"Failed to retreive data: {response.status_code}\")\n",
    "        break \n",
    "\n",
    "# close the database connection\n",
    "conn.close()"
   ]
  },
  {
   "attachments": {},
   "cell_type": "markdown",
   "metadata": {},
   "source": [
    "# Cleanse Data"
   ]
  },
  {
   "cell_type": "code",
   "execution_count": 8,
   "metadata": {},
   "outputs": [],
   "source": [
    "cleanse_queries = []\n",
    "\n",
    "cleanse_queries.append(\"\"\"\n",
    "-- Step 1: Fill missing principalcountry values with 'US'\n",
    "UPDATE colorado\n",
    "SET principalcountry = 'US'\n",
    "WHERE principalcountry IS NULL;\n",
    "\"\"\")\n",
    "\n",
    "cleanse_queries.append(\"\"\"\n",
    "-- Step 2: Standardize capitalization\n",
    "UPDATE colorado\n",
    "SET \n",
    "    agentprincipaladdress1 = UPPER(agentprincipaladdress1),\n",
    "    agentprincipalcity = UPPER(agentprincipalcity),\n",
    "    agentprincipalcountry = UPPER(agentprincipalcountry),\n",
    "    entityname = UPPER(entityname),\n",
    "    principaladdress1 = UPPER(principaladdress1),\n",
    "    principalcity = UPPER(principalcity),\n",
    "    principalcountry = UPPER(principalcountry);\n",
    "\"\"\")\n",
    "                       \n",
    "cleanse_queries.append(\"\"\"\n",
    "-- Step 3: Extract date from timestamp\n",
    "UPDATE colorado\n",
    "SET entityformdate = DATE(entityformdate);\n",
    "\"\"\")\n",
    "                       \n",
    "cleanse_queries.append(\"\"\"\n",
    "-- Step 4: Create a new table without columns with majority null values\n",
    "CREATE TABLE colorado_new AS\n",
    "SELECT\n",
    "    entityid,\n",
    "    entityname,\n",
    "    principaladdress1,\n",
    "    principalcity,\n",
    "    principalstate,\n",
    "    principalzipcode,\n",
    "    principalcountry,\n",
    "    entitystatus,\n",
    "    jurisdictonofformation,\n",
    "    entitytype,\n",
    "    agentfirstname,\n",
    "    agentlastname,\n",
    "    agentprincipaladdress1,\n",
    "    agentprincipalcity,\n",
    "    agentprincipalstate,\n",
    "    agentprincipalzipcode,\n",
    "    agentprincipalcountry,\n",
    "    entityformdate\n",
    "FROM colorado;\n",
    "\"\"\")\n",
    "                       \n",
    "cleanse_queries.append(\"\"\"\n",
    "-- Drop the old table and rename the new table\n",
    "DROP TABLE colorado;\n",
    "\"\"\")\n",
    "                       \n",
    "cleanse_queries.append(\"\"\"\n",
    "ALTER TABLE colorado_new RENAME TO colorado;\n",
    "\"\"\")\n"
   ]
  },
  {
   "cell_type": "code",
   "execution_count": 25,
   "metadata": {},
   "outputs": [
    {
     "ename": "OperationalError",
     "evalue": "database or disk is full",
     "output_type": "error",
     "traceback": [
      "\u001b[0;31m---------------------------------------------------------------------------\u001b[0m",
      "\u001b[0;31mOperationalError\u001b[0m                          Traceback (most recent call last)",
      "\u001b[0;32m/var/folders/gg/ydyvqhls1lzggjy_z1wmnm0m0000gp/T/ipykernel_68853/3033522236.py\u001b[0m in \u001b[0;36m<module>\u001b[0;34m\u001b[0m\n\u001b[0;32m----> 1\u001b[0;31m \u001b[0mcursor\u001b[0m\u001b[0;34m.\u001b[0m\u001b[0mexecute\u001b[0m\u001b[0;34m(\u001b[0m\u001b[0;34m\"VACUUM\"\u001b[0m\u001b[0;34m)\u001b[0m\u001b[0;34m\u001b[0m\u001b[0;34m\u001b[0m\u001b[0m\n\u001b[0m",
      "\u001b[0;31mOperationalError\u001b[0m: database or disk is full"
     ]
    }
   ],
   "source": [
    "cursor.execute(\"VACUUM\")"
   ]
  },
  {
   "cell_type": "code",
   "execution_count": 24,
   "metadata": {},
   "outputs": [
    {
     "name": "stdout",
     "output_type": "stream",
     "text": [
      "Executing query: \n",
      "-- Step 1: Fill missing principalcountry values with 'US'\n",
      "UPDATE colorado\n",
      "SET principalcountry = 'US'\n",
      "WHERE principalcountry IS NULL;\n",
      "\n",
      "Executing query: \n",
      "-- Step 2: Standardize capitalization\n",
      "UPDATE colorado\n",
      "SET \n",
      "    agentprincipaladdress1 = UPPER(agentprincipaladdress1),\n",
      "    agentprincipalcity = UPPER(agentprincipalcity),\n",
      "    agentprincipalcountry = UPPER(agentprincipalcountry),\n",
      "    entityname = UPPER(entityname),\n",
      "    principaladdress1 = UPPER(principaladdress1),\n",
      "    principalcity = UPPER(principalcity),\n",
      "    principalcountry = UPPER(principalcountry);\n",
      "\n"
     ]
    },
    {
     "ename": "OperationalError",
     "evalue": "database or disk is full",
     "output_type": "error",
     "traceback": [
      "\u001b[0;31m---------------------------------------------------------------------------\u001b[0m",
      "\u001b[0;31mOperationalError\u001b[0m                          Traceback (most recent call last)",
      "\u001b[0;32m/var/folders/gg/ydyvqhls1lzggjy_z1wmnm0m0000gp/T/ipykernel_68853/1936399146.py\u001b[0m in \u001b[0;36m<module>\u001b[0;34m\u001b[0m\n\u001b[1;32m      1\u001b[0m \u001b[0;32mfor\u001b[0m \u001b[0mquery\u001b[0m \u001b[0;32min\u001b[0m \u001b[0mcleanse_queries\u001b[0m\u001b[0;34m:\u001b[0m\u001b[0;34m\u001b[0m\u001b[0;34m\u001b[0m\u001b[0m\n\u001b[1;32m      2\u001b[0m     \u001b[0mprint\u001b[0m\u001b[0;34m(\u001b[0m\u001b[0;34mf\"Executing query: {query}\"\u001b[0m\u001b[0;34m)\u001b[0m\u001b[0;34m\u001b[0m\u001b[0;34m\u001b[0m\u001b[0m\n\u001b[0;32m----> 3\u001b[0;31m     \u001b[0mcursor\u001b[0m\u001b[0;34m.\u001b[0m\u001b[0mexecute\u001b[0m\u001b[0;34m(\u001b[0m\u001b[0mquery\u001b[0m\u001b[0;34m)\u001b[0m\u001b[0;34m\u001b[0m\u001b[0;34m\u001b[0m\u001b[0m\n\u001b[0m",
      "\u001b[0;31mOperationalError\u001b[0m: database or disk is full"
     ]
    }
   ],
   "source": [
    "for query in cleanse_queries:\n",
    "    print(f\"Executing query: {query}\")\n",
    "    cursor.execute(query)\n"
   ]
  },
  {
   "attachments": {},
   "cell_type": "markdown",
   "metadata": {},
   "source": [
    "# Query Data"
   ]
  },
  {
   "cell_type": "code",
   "execution_count": 26,
   "metadata": {},
   "outputs": [],
   "source": [
    "# connect to SQLite database (or create it)\n",
    "conn = sqlite3.connect('business_entities.db')\n",
    "cursor = conn.cursor()"
   ]
  },
  {
   "cell_type": "code",
   "execution_count": 30,
   "metadata": {},
   "outputs": [],
   "source": [
    "# Execute a SQL query\n",
    "test_query = \"\"\"\n",
    "SELECT \n",
    "    * \n",
    "FROM colorado;\n",
    "\"\"\"\n",
    "cursor.execute(test_query)\n",
    "\n",
    "# Fetch all results from the executed query\n",
    "results = cursor.fetchall()\n",
    "\n",
    "# Optionally, load the results into a pandas DataFrame for easier data manipulation\n",
    "df = pd.DataFrame(results, columns=[col[0] for col in cursor.description])\n",
    "\n",
    "# Print the DataFrame\n",
    "#print(df)\n",
    "\n",
    "# Write file\n",
    "df.to_csv('business_entities', index=False)"
   ]
  },
  {
   "cell_type": "code",
   "execution_count": 4,
   "metadata": {},
   "outputs": [],
   "source": [
    "# close the database connection\n",
    "conn.close()"
   ]
  }
 ],
 "metadata": {
  "kernelspec": {
   "display_name": "Python 3",
   "language": "python",
   "name": "python3"
  },
  "language_info": {
   "codemirror_mode": {
    "name": "ipython",
    "version": 3
   },
   "file_extension": ".py",
   "mimetype": "text/x-python",
   "name": "python",
   "nbconvert_exporter": "python",
   "pygments_lexer": "ipython3",
   "version": "3.9.12"
  },
  "orig_nbformat": 4
 },
 "nbformat": 4,
 "nbformat_minor": 2
}
