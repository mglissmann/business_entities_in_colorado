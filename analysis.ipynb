{
 "cells": [
  {
   "cell_type": "code",
   "execution_count": 125,
   "metadata": {},
   "outputs": [],
   "source": [
    "\n",
    "import requests\n",
    "import sqlite3\n",
    "from requests.auth import HTTPBasicAuth\n",
    "import pandas as pd\n",
    "from sodapy import Socrata"
   ]
  },
  {
   "cell_type": "code",
   "execution_count": 126,
   "metadata": {},
   "outputs": [],
   "source": [
    "# api endpoint\n",
    "api_url = \"https://data.colorado.gov/resource/4ykn-tg5h.json\"\n",
    "app_token = \"0NT6cCdGg6VVAj2pRLjmAqDFu\"\n",
    "username = \"glissmann.mark@gmail.com\"\n",
    "password = \"K2PRH@mUDwgbfsV\"\n",
    "entityid = \"18881009142\"\n",
    "api_key = \"gxc0jsptwdopcqxffpl21c8b\"\n",
    "api_secret_key = \"2w9yp2sqyp3d7nxkidj8v65e6ow7mos3e7bnuc64rqaiccyc4c\" \n"
   ]
  },
  {
   "cell_type": "code",
   "execution_count": 127,
   "metadata": {},
   "outputs": [],
   "source": [
    "batch_size = 1000 \n",
    "offset = 0"
   ]
  },
  {
   "cell_type": "code",
   "execution_count": 128,
   "metadata": {},
   "outputs": [],
   "source": [
    "# connect to SQLite database (or create it)\n",
    "conn = sqlite3.connect('business_entities.db')\n",
    "cursor = conn.cursor()"
   ]
  },
  {
   "cell_type": "code",
   "execution_count": 132,
   "metadata": {},
   "outputs": [],
   "source": [
    "# Fetch one record to determine the structure of the data\n",
    "response = requests.get(api_url, params={'$limit': 1})\n",
    "if response.status_code == 200:\n",
    "    sample_data = response.json()\n",
    "    if sample_data:\n",
    "        columns = sample_data[0].keys()\n",
    "        # Create table based on the keys in the data\n",
    "        cursor.execute(f'''\n",
    "        CREATE TABLE IF NOT EXISTS data (\n",
    "            {', '.join([f'{col} TEXT' for col in columns])}\n",
    "        )\n",
    "        ''')\n",
    "        conn.commit()\n",
    "else:\n",
    "    print(f\"Failed to retrieve data: {response.status_code}\")\n",
    "    exit()"
   ]
  },
  {
   "cell_type": "code",
   "execution_count": 134,
   "metadata": {},
   "outputs": [],
   "source": [
    "while True:\n",
    "    # fetch a batch of data\n",
    "    params = {\n",
    "        '$limit': batch_size,\n",
    "        '$offset': offset\n",
    "    }\n",
    "\n",
    "    response = requests.get(api_url, params=params)\n",
    "\n",
    "    if response.status_code == 200:\n",
    "        data = response.json()\n",
    "\n",
    "        if not data:\n",
    "            # no more data to fetch\n",
    "            break\n",
    "        \n",
    "        # prepare insert statement\n",
    "        placeholders = ', '.join(['?'] * len(columns))\n",
    "        insert_statement = f'''\n",
    "        INSERT OR IGNORE INTO colorado ({', '.join(columns)})\n",
    "        VALUES ({placeholders})\n",
    "        '''\n",
    "\n",
    "        # process and insert data into the database\n",
    "        for item in data:\n",
    "            values = tuple(item.get(col) for col in columns)\n",
    "            cursor.execute(insert_statement, values)\n",
    "        \n",
    "        # commit changes to the database\n",
    "        conn.commit()\n",
    "\n",
    "        # increment offset for the next batch\n",
    "        offset += batch_size\n",
    "    else:\n",
    "        print(f\"Failed to retreive data: {response.status_code}\")\n",
    "        break \n",
    "\n",
    "# close the database connection\n",
    "conn.close()"
   ]
  },
  {
   "cell_type": "code",
   "execution_count": null,
   "metadata": {},
   "outputs": [],
   "source": []
  }
 ],
 "metadata": {
  "kernelspec": {
   "display_name": "Python 3",
   "language": "python",
   "name": "python3"
  },
  "language_info": {
   "codemirror_mode": {
    "name": "ipython",
    "version": 3
   },
   "file_extension": ".py",
   "mimetype": "text/x-python",
   "name": "python",
   "nbconvert_exporter": "python",
   "pygments_lexer": "ipython3",
   "version": "3.9.12"
  },
  "orig_nbformat": 4
 },
 "nbformat": 4,
 "nbformat_minor": 2
}
